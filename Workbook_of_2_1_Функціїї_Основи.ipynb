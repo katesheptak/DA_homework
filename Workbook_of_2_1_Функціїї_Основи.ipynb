{
  "nbformat": 4,
  "nbformat_minor": 0,
  "metadata": {
    "colab": {
      "provenance": [],
      "include_colab_link": true
    },
    "kernelspec": {
      "name": "python3",
      "display_name": "Python 3"
    },
    "language_info": {
      "name": "python"
    }
  },
  "cells": [
    {
      "cell_type": "markdown",
      "metadata": {
        "id": "view-in-github",
        "colab_type": "text"
      },
      "source": [
        "<a href=\"https://colab.research.google.com/github/katesheptak/DA_homework/blob/main/Workbook_of_2_1_%D0%A4%D1%83%D0%BD%D0%BA%D1%86%D1%96%D1%97%D1%97_%D0%9E%D1%81%D0%BD%D0%BE%D0%B2%D0%B8.ipynb\" target=\"_parent\"><img src=\"https://colab.research.google.com/assets/colab-badge.svg\" alt=\"Open In Colab\"/></a>"
      ]
    },
    {
      "cell_type": "markdown",
      "source": [
        "# Домашнє завдання до теми \"Functions\""
      ],
      "metadata": {
        "id": "QtHabST6Ez_n"
      }
    },
    {
      "cell_type": "markdown",
      "source": [
        "1. Напишіть фукнцію `print_message`, яка виводить на екран \"Я програмую на Python💪\" і викличіть цю фукнцію 5 разів (найкраще це зробити в циклі).\n",
        "\n",
        "  **Увага**: фукнція має робити чітко лише зазначений функціонал. Наявність додаткового функціоналу і аргументів, які не потрібні для виконання безпосередньо завдання, буде вважатись помилкою."
      ],
      "metadata": {
        "id": "6pg_NzFq5_kO"
      }
    },
    {
      "cell_type": "code",
      "source": [
        "def print_message():\n",
        "    print(\"Я програмую на Python💪\")\n",
        "\n",
        "for _ in range(5):\n",
        "    print_message()"
      ],
      "metadata": {
        "id": "RbXsfwI_D8ql",
        "colab": {
          "base_uri": "https://localhost:8080/"
        },
        "outputId": "a33314e5-7724-4996-ecd8-f1c1361c1d0c"
      },
      "execution_count": 1,
      "outputs": [
        {
          "output_type": "stream",
          "name": "stdout",
          "text": [
            "Я програмую на Python💪\n",
            "Я програмую на Python💪\n",
            "Я програмую на Python💪\n",
            "Я програмую на Python💪\n",
            "Я програмую на Python💪\n"
          ]
        }
      ]
    },
    {
      "cell_type": "markdown",
      "source": [
        "2. Напишіть функцію `calculation` яка приймає на вхід 4 аргументи типу int - `a`, `b`, `c`, `d` і вертає результат обчислення такої формули: $ (a + b - c) * d $.\n",
        "\n",
        "  Викличте функцію на наступному наборі аргументів і виведіть результат на екран:\n",
        "  ```\n",
        "  a = 16\n",
        "  b = 4\n",
        "  c = 9\n",
        "  d = 3\n",
        "  ```"
      ],
      "metadata": {
        "id": "oyRpWRXWBL9N"
      }
    },
    {
      "cell_type": "code",
      "source": [
        "def calculation(a, b, c, d):\n",
        "    return (a + b - c) * d\n",
        "\n",
        "a = 16\n",
        "b = 4\n",
        "c = 9\n",
        "d = 3\n",
        "\n",
        "result = calculation(a, b, c, d)\n",
        "print(result)"
      ],
      "metadata": {
        "id": "Ggt2tx6kD-LS",
        "colab": {
          "base_uri": "https://localhost:8080/"
        },
        "outputId": "c11a5e39-ecef-476b-9aa8-0a2adbd4463b"
      },
      "execution_count": 2,
      "outputs": [
        {
          "output_type": "stream",
          "name": "stdout",
          "text": [
            "33\n"
          ]
        }
      ]
    },
    {
      "cell_type": "markdown",
      "source": [
        "3. Напишіть функцію, яка додає до аргумента 15 і вертає результат додавання. Викличте функцію, передаючи в якості аргументів кожну з наступних змінних по черзі, і виведіть кожного разу результат на екран.\n",
        "```\n",
        "x = 9\n",
        "y = 14\n",
        "z = -19\n",
        "```"
      ],
      "metadata": {
        "id": "5hf1CbllDU_t"
      }
    },
    {
      "cell_type": "code",
      "source": [
        "def add_fifteen(n):\n",
        "    return n + 15\n",
        "\n",
        "x = 9\n",
        "y = 14\n",
        "z = -19\n",
        "\n",
        "print(add_fifteen(x))\n",
        "print(add_fifteen(y))\n",
        "print(add_fifteen(z))"
      ],
      "metadata": {
        "id": "GvEs_nUtD_Cd",
        "colab": {
          "base_uri": "https://localhost:8080/"
        },
        "outputId": "d0cee2b3-352a-4f51-d684-f4b1edd4039e"
      },
      "execution_count": 3,
      "outputs": [
        {
          "output_type": "stream",
          "name": "stdout",
          "text": [
            "24\n",
            "29\n",
            "-4\n"
          ]
        }
      ]
    },
    {
      "cell_type": "markdown",
      "source": [
        "4. Напишіть функцію `multipy_numbers`, яка приймає два числа як аргументи і повертає їх добуток.\n",
        "\n",
        "  Викличіть функцію `multipy_numbers` на парах чисел\n",
        "- 10 і 2\n",
        "- 7 і 8\n",
        "- 1024 і 999.\n",
        "  \n",
        "  Виведіть результат кожного виклику.\n",
        "  При виконанні цього завдання з використанням циклу - отримаєте 2х балів за нього :)"
      ],
      "metadata": {
        "id": "bUuVBhie53uK"
      }
    },
    {
      "cell_type": "code",
      "source": [
        "def multipy_numbers(a, b):\n",
        "    return a * b\n",
        "\n",
        "# Список пар чисел для множення\n",
        "pairs = [\n",
        "    (10, 2),\n",
        "    (7, 8),\n",
        "    (1024, 999)\n",
        "]\n",
        "# Викликаємо функцію для кожної пари чисел та виведемо результат\n",
        "for a, b in pairs:\n",
        "    result = multipy_numbers(a, b)\n",
        "    print(result)"
      ],
      "metadata": {
        "id": "cDqrgZ4YEAKj",
        "colab": {
          "base_uri": "https://localhost:8080/"
        },
        "outputId": "2a2f2800-d644-4dce-b5ba-552f80fc0354"
      },
      "execution_count": 4,
      "outputs": [
        {
          "output_type": "stream",
          "name": "stdout",
          "text": [
            "20\n",
            "56\n",
            "1022976\n"
          ]
        }
      ]
    },
    {
      "cell_type": "markdown",
      "source": [
        "5. **Ділення з перевіркою типів.**  \n",
        "\n",
        "  1. Напишіть функцію `int_division` яка приймає на вхід два аргументи типу `int` - `a` і `b`, і виконує ділення першого аргумента на другий: `a/b`. При цьому функція перед діленням перевіряє, чи другий аргумент не дорівнює 0. Якщо другий аргумент не 0, фукнція вертає результат ділення, інакше - замість виконання ділення, вертає повідомлення на екран \"Не можу виконати ділення на 0\".\n",
        "\n",
        "    Якщо типи, надані у функцію, не `int` - функція виводить повідомлення \"Не працюю з такими типами даних.\".\n",
        "\n",
        "  2. Запустіть функцію на наступних парах чисел:\n",
        "- 12 і 6\n",
        "- 20 і 0\n",
        "- 112 і 10\n",
        "- 99 і 0\n",
        "- 11 i 1.1\n",
        "\n",
        "    і виведіть на екран повідомлення \"Результат роботи функції: \" - і далі те, що повернула функція.\n",
        "\n",
        "  3. Дайте відповідь на питання: \"Чому в деяких випадках функція повернула None?\""
      ],
      "metadata": {
        "id": "I03t46k27dDZ"
      }
    },
    {
      "cell_type": "code",
      "source": [
        "def int_division(a, b):\n",
        "    if not (isinstance(a, int) and isinstance(b, int)):\n",
        "        print(\"Не працюю з такими типами даних.\")\n",
        "        return\n",
        "    if b == 0:\n",
        "        print(\"Не можу виконати ділення на 0\")\n",
        "        return\n",
        "    return a / b\n",
        "    # Тестування функції на заданих парах\n",
        "test_pairs = [\n",
        "    (12, 6),\n",
        "    (20, 0),\n",
        "    (112, 10),\n",
        "    (99, 0),\n",
        "    (11, 1.1)\n",
        "]\n",
        "\n",
        "for a, b in test_pairs:\n",
        "    result = int_division(a, b)\n",
        "    print(f\"Результат роботи функції: {result}\")"
      ],
      "metadata": {
        "id": "1-EQhxrAEEAb",
        "colab": {
          "base_uri": "https://localhost:8080/"
        },
        "outputId": "c620a890-2645-473d-a150-7acfbf8ad5a0"
      },
      "execution_count": 5,
      "outputs": [
        {
          "output_type": "stream",
          "name": "stdout",
          "text": [
            "Результат роботи функції: 2.0\n",
            "Не можу виконати ділення на 0\n",
            "Результат роботи функції: None\n",
            "Результат роботи функції: 11.2\n",
            "Не можу виконати ділення на 0\n",
            "Результат роботи функції: None\n",
            "Не працюю з такими типами даних.\n",
            "Результат роботи функції: None\n"
          ]
        }
      ]
    }
  ]
}